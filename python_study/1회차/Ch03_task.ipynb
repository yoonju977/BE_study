{
  "cells": [
    {
      "cell_type": "markdown",
      "metadata": {
        "id": "view-in-github",
        "colab_type": "text"
      },
      "source": [
        "<a href=\"https://colab.research.google.com/github/yoonju977/challenge/blob/main/Ch03_task.ipynb\" target=\"_parent\"><img src=\"https://colab.research.google.com/assets/colab-badge.svg\" alt=\"Open In Colab\"/></a>"
      ]
    },
    {
      "cell_type": "markdown",
      "metadata": {
        "id": "hrSQJh-cgzH-"
      },
      "source": [
        "<span style=\"font-size:100%\">\n",
        "\n",
        "수업은 모두 열심히 들으셨나요?\n",
        "\n",
        "간혹 강의에서 언급되지 않은 내용이 문제로 나올 수 있습니다.<br>\n",
        "그럴땐 강의 내용 외 문제는 구글링을 통해 해결해주세요<br></span>\n",
        "<span style=\"font-size:80%\">\n",
        "(구글링 또한 개발자가 갖쳐야할 역량 중에 하나랍니다 😊)\n",
        "</span>\n",
        "\n",
        "---"
      ]
    },
    {
      "cell_type": "markdown",
      "metadata": {
        "id": "TQ6N5JS2gzIA"
      },
      "source": [
        "<span style=\"font-size:80%\">[문제1]<br><br></span>\n",
        "```주로 작성 중인 코드의 끝을 알리는 기호로 사용되며 파이썬에서 한 줄에 작성된 서로 다른 코드를 구분 지을 때 사용할 수 있는 기호를 골라주세요```\n",
        "\n",
        "1. ' , ' (쉼표)\n",
        "2. ' + ' (더하기 기호)\n",
        "3. ' ; ' (세미콜론)\n",
        "4. ' / ' (슬래시)"
      ]
    },
    {
      "cell_type": "markdown",
      "metadata": {
        "id": "EPsBd4GogzIB"
      },
      "source": [
        "<span style=\"color:red\">답변</span> :"
      ]
    },
    {
      "cell_type": "markdown",
      "metadata": {
        "id": "i_4TKQc2gzIB"
      },
      "source": [
        "3(;)"
      ]
    },
    {
      "cell_type": "markdown",
      "metadata": {
        "id": "yFKgbLE7gzIB"
      },
      "source": [
        "----"
      ]
    },
    {
      "cell_type": "markdown",
      "metadata": {
        "id": "z1JnasDTgzIB"
      },
      "source": [
        "<span style=\"font-size:80%\">[문제2]<br><br></span>\n",
        "```Python의 PEP 8은 무엇인지 설명하고 PEP 8의 핵심적인 규칙을 1개 이상을 설명해주세요```"
      ]
    },
    {
      "cell_type": "markdown",
      "metadata": {
        "id": "cwjrJ1MJgzIB"
      },
      "source": [
        "<span style=\"color:red\">답변</span>"
      ]
    },
    {
      "cell_type": "markdown",
      "metadata": {
        "id": "C-H5IxL6gzIB"
      },
      "source": [
        "PEP 8은 파이썬 코드의 스타일 가이드로 코드의 가독성과 일관성을 높이는데 도움을 줍니다. 대표적인 규칙으로는 들여쓰기는 스페이스 4개를 사용한다는 것입니다.\n"
      ]
    },
    {
      "cell_type": "markdown",
      "metadata": {
        "id": "VLzoa3IXgzIB"
      },
      "source": [
        "----"
      ]
    },
    {
      "cell_type": "markdown",
      "metadata": {
        "id": "xJsQJNc5gzIC"
      },
      "source": [
        "<span style=\"font-size:80%\">[문제3]<br><br></span>\n",
        "```Python에서 \"#\"이 의마하는 것은 무엇인지 설명해주세요```"
      ]
    },
    {
      "cell_type": "markdown",
      "metadata": {
        "id": "XZsxxukqgzIC"
      },
      "source": [
        "<span style=\"color:red\">답변</span>"
      ]
    },
    {
      "cell_type": "markdown",
      "metadata": {
        "id": "N9wM3B_5gzIC"
      },
      "source": [
        "주석을 나타내는 기호로 코드를 실행시 출력되는 값이 아닌 부가 설명이나 임시 비활성화에 사용됩니다.\n"
      ]
    },
    {
      "cell_type": "markdown",
      "metadata": {
        "id": "DI7w_CQBgzIC"
      },
      "source": [
        "----"
      ]
    },
    {
      "cell_type": "markdown",
      "metadata": {
        "id": "MdN1s41mgzIC"
      },
      "source": [
        "<span style=\"font-size:80%\">[문제4]<br><br></span>\n",
        "```Python의 들여쓰기 장점과 기능에 대해 설명해주세요```"
      ]
    },
    {
      "cell_type": "markdown",
      "metadata": {
        "id": "S-Q5Nbi_gzIC"
      },
      "source": [
        "<span style=\"color:red\">답변</span>"
      ]
    },
    {
      "cell_type": "markdown",
      "metadata": {
        "id": "arqRoXMcgzIC"
      },
      "source": [
        "Python의 들여쓰기는 코드의 가독성을 향상시키고, 코드 블록을 구분하여 문법적 오류를 방지하며, 팀 프로젝트에서의 협업과 코드의 유지보수성을 증가시킵니다. 이를 통해 일관된 스타일의 코드를 작성하고 이해하기 쉽게 만들어 프로그램의 효율성을 향상시킵니다.\n",
        "\n",
        "\n",
        "\n",
        "\n",
        "\n"
      ]
    },
    {
      "cell_type": "markdown",
      "metadata": {
        "id": "8OBuhiregzIC"
      },
      "source": [
        "----"
      ]
    },
    {
      "cell_type": "markdown",
      "metadata": {
        "id": "S4JqrszBgzIC"
      },
      "source": [
        "<span style=\"font-size:80%\">[문제5]<br><br></span>\n",
        "```print( )문의 기능 및 특징에 대해 설명해주세요```"
      ]
    },
    {
      "cell_type": "markdown",
      "metadata": {
        "id": "Q9JKZ1FrgzIC"
      },
      "source": [
        "<span style=\"color:red\">답변</span>"
      ]
    },
    {
      "cell_type": "code",
      "execution_count": null,
      "metadata": {
        "vscode": {
          "languageId": "plaintext"
        },
        "id": "WGvFpiGBgzIC"
      },
      "outputs": [],
      "source": []
    },
    {
      "cell_type": "markdown",
      "metadata": {
        "id": "Pfz5Y68zgzID"
      },
      "source": [
        "print(. ) 함수는 Python에서 값을 화면에 출력하는 기능을 담당하며, 여러 값을 동시에 출력하거나 출력 형식을 지정할 수 있어서 프로그램의 결과를 확인하는 데 유용합니다. 이를 통해 개발자는 코드 실행 중의 중간 결과를 확인하고 디버깅할 수 있습니다.\n",
        "\n",
        "\n",
        "\n",
        "\n",
        "\n"
      ]
    }
  ],
  "metadata": {
    "language_info": {
      "name": "python"
    },
    "colab": {
      "provenance": [],
      "include_colab_link": true
    }
  },
  "nbformat": 4,
  "nbformat_minor": 0
}