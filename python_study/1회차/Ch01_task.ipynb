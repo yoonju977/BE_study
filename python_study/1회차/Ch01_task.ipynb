{
  "cells": [
    {
      "cell_type": "markdown",
      "metadata": {
        "id": "view-in-github",
        "colab_type": "text"
      },
      "source": [
        "<a href=\"https://colab.research.google.com/github/yoonju977/challenge/blob/main/Ch01_task.ipynb\" target=\"_parent\"><img src=\"https://colab.research.google.com/assets/colab-badge.svg\" alt=\"Open In Colab\"/></a>"
      ]
    },
    {
      "cell_type": "markdown",
      "metadata": {
        "id": "SPuJzoLXdiUe"
      },
      "source": [
        "<span style=\"font-size:100%\">\n",
        "\n",
        "수업은 모두 열심히 들으셨나요?\n",
        "\n",
        "간혹 강의에서 언급되지 않은 내용이 문제로 나올 수 있습니다.<br>\n",
        "그럴땐 강의 내용 외 문제는 구글링을 통해 해결해주세요<br></span>\n",
        "<span style=\"font-size:80%\">\n",
        "(구글링 또한 개발자가 갖쳐야할 역량 중에 하나랍니다 😊)\n",
        "</span>\n",
        "\n",
        "---"
      ]
    },
    {
      "cell_type": "markdown",
      "metadata": {
        "id": "XMRO-uWgdiUg"
      },
      "source": [
        "<span style=\"font-size:80%\">[문제1]<br><br></span>\n",
        "```인터프리트 방식에 대해 설명하고 2개 이상의 장점을 설명해주세요```"
      ]
    },
    {
      "cell_type": "markdown",
      "metadata": {
        "id": "6f1hZMHJdiUg"
      },
      "source": [
        "<span style=\"color:red\">답변</span>"
      ]
    },
    {
      "cell_type": "markdown",
      "metadata": {
        "id": "XN2WX9T-diUg"
      },
      "source": [
        "인터프리트 방식은 파이썬과 자바스크립트가 사용하는 체계 스타일입니다.\n",
        "장점중 하나는 속도가 빠르다는것 입니다.\n",
        "\n",
        "두번째는 플랫폼이 독립적이라는것입니다."
      ]
    },
    {
      "cell_type": "markdown",
      "metadata": {
        "id": "ffGA7V60diUg"
      },
      "source": [
        "---"
      ]
    },
    {
      "cell_type": "markdown",
      "metadata": {
        "id": "AZ6H70BAdiUh"
      },
      "source": [
        "<span style=\"font-size:80%\">[문제2]<br><br></span>\n",
        "```동적 타입 방식의 장점과 단점을 간략히 설명해주세요```"
      ]
    },
    {
      "cell_type": "markdown",
      "metadata": {
        "id": "17FzU3iTdiUh"
      },
      "source": [
        "<span style=\"color:red\">답변</span>"
      ]
    },
    {
      "cell_type": "markdown",
      "metadata": {
        "id": "uTqyRavLdiUh"
      },
      "source": []
    },
    {
      "cell_type": "markdown",
      "metadata": {
        "id": "FhmB2F1fdiUh"
      },
      "source": [
        "장점은 유연성과 개발속도가 빠르다는 것이고 단점은 런타임시 오류발생 가능성이 있습니다."
      ]
    },
    {
      "cell_type": "markdown",
      "metadata": {
        "id": "ioHryx0ediUh"
      },
      "source": [
        "<span style=\"font-size:80%\">[문제3]<br><br></span>\n",
        "```Python으로 정적타입 방식의 코드를 작성할 수 있는 방법을 구글링을 통해 검색 후 설명해주세요```"
      ]
    },
    {
      "cell_type": "markdown",
      "metadata": {
        "id": "4FFiqUUqdiUh"
      },
      "source": [
        "<span style=\"color:red\">답변</span>"
      ]
    },
    {
      "cell_type": "markdown",
      "metadata": {
        "id": "UFsGO6lidiUh"
      },
      "source": [
        "MyPy정적타입 검사기를 사용하여 코드를 검사하여 타입오류를 발견하는 것으로 코드의 안정성과 가독성을 늘리고 디버깅 시간을 단축시킵니다.\n"
      ]
    },
    {
      "cell_type": "markdown",
      "metadata": {
        "id": "KV3hZDehdiUh"
      },
      "source": [
        "---"
      ]
    },
    {
      "cell_type": "markdown",
      "metadata": {
        "id": "zyMfltbNdiUh"
      },
      "source": [
        "<span style=\"font-size:80%\">[문제4]<br><br></span>\n",
        "```프로세스와 스레드의 차이점을 설명해주세요```"
      ]
    },
    {
      "cell_type": "markdown",
      "metadata": {
        "id": "BLScNd6ddiUh"
      },
      "source": [
        "<span style=\"color:red\">답변</span>"
      ]
    },
    {
      "cell_type": "markdown",
      "metadata": {
        "id": "CspjGxELdiUh"
      },
      "source": [
        "프로세스는 운영체제에서 실행되는 독립적인 프로그램 단위이며, 스레드는 프로세스 내에서 실행되는 실행 단위입니다.프로세스는 각자 독립적인 메모리 공간을 가지고 있고, 스레드는 같은 프로세스 내에서 메모리를 공유합니다. 프로세스 간의 통신은 명시적인 IPC를 사용하여 이루어지고, 스레드 간의 통신은 더 직접적이고 효율적입니다."
      ]
    },
    {
      "cell_type": "markdown",
      "metadata": {
        "id": "0D_quWujdiUh"
      },
      "source": [
        "---"
      ]
    },
    {
      "cell_type": "markdown",
      "metadata": {
        "id": "BIlCd4AAdiUh"
      },
      "source": [
        "<span style=\"font-size:80%\">[문제5]<br><br></span>\n",
        "```Python 2버전대와 3버전대의 차이를 성명해주세요```"
      ]
    },
    {
      "cell_type": "markdown",
      "metadata": {
        "id": "ehpMqC1rdiUi"
      },
      "source": [
        "<span style=\"color:red\">답변</span>"
      ]
    },
    {
      "cell_type": "markdown",
      "metadata": {
        "id": "D_FzcTo5diUi"
      },
      "source": [
        "많은 차이가 있지만 몇가지를 설명하자면 문자열 타입이 다른것으로 2버전은 아스키를 3버전은 유니코드를 사용합니다.\n",
        "\n",
        "또한 print함수가 2버전에서는 문장으로 취급되었고 3버전에서는 함수로 변경되어 2버전과 달리 괄호를 사용해야 합니다.\n",
        "(예 : 2버전 : print\"hello\"\n",
        "     3버전 : print(\"hello\")\n"
      ]
    },
    {
      "cell_type": "markdown",
      "metadata": {
        "id": "Bhzl6dHHdiUi"
      },
      "source": [
        "---"
      ]
    },
    {
      "cell_type": "markdown",
      "metadata": {
        "id": "ORzWgIuKdiUi"
      },
      "source": [
        "<span style=\"font-size:80%\">[문제6]<br><br></span>\n",
        "```Python에서 메모리 관리는 어떻게 이루어지는지 설명해주세요```"
      ]
    },
    {
      "cell_type": "markdown",
      "metadata": {
        "id": "3xIofNcLdiUi"
      },
      "source": [
        "<span style=\"color:red\">답변</span>"
      ]
    },
    {
      "cell_type": "markdown",
      "metadata": {
        "id": "_oUFHe5QdiUi"
      },
      "source": [
        "\n",
        "Python은 참조 카운트, 순환 참조 탐지, 가비지 컬렉션, 메모리 관리자, 그리고 C 언어와의 통합을 통해 효율적인 메모리 관리를 수행하여 프로그램이 메모리를 효율적으로 사용할 수 있도록 돕습니다. 이러한 메모리 관리 방식은 객체의 생성 및 해제를 관리하며, 순환 참조와 같은 메모리 누수를 방지하여 안정적인 프로그램 실행을 보장합니다."
      ]
    }
  ],
  "metadata": {
    "language_info": {
      "name": "python"
    },
    "colab": {
      "provenance": [],
      "include_colab_link": true
    }
  },
  "nbformat": 4,
  "nbformat_minor": 0
}