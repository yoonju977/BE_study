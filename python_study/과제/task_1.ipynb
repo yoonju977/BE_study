{
  "cells": [
    {
      "cell_type": "markdown",
      "metadata": {
        "id": "view-in-github",
        "colab_type": "text"
      },
      "source": [
        "<a href=\"https://colab.research.google.com/github/yoonju977/challenge/blob/main/task_1.ipynb\" target=\"_parent\"><img src=\"https://colab.research.google.com/assets/colab-badge.svg\" alt=\"Open In Colab\"/></a>"
      ]
    },
    {
      "cell_type": "markdown",
      "metadata": {
        "id": "uoUOmbWJXEAA"
      },
      "source": [
        "사용자로부터 두 개의 숫자를 입력받아 나눗셈을 수행하는 프로그램을 작성하세요.\n",
        "\n",
        "[예외처리]\n",
        "- 입력 값이 숫자가 아닐 때 발생할 수 있는 ValueError\n",
        "- 나누는 수가 0일 때 발생할 수 있는 ZeroDivisionError\n",
        "- 위 2가지 예외처리 후 사용자에게 이해하기 쉬운 메시지 작성 후 출력되도록 코드를 작성"
      ]
    },
    {
      "cell_type": "code",
      "source": [
        "while True:\n",
        "    try:\n",
        "        # 사용자로부터 두 개의 숫자를 입력받음\n",
        "        num1 = float(input(\"나누는 수를 입력하세요: \"))\n",
        "        num2 = float(input(\"나눌 수를 입력하세요: \"))\n",
        "\n",
        "        # 나눗셈 수행\n",
        "        result = num1 / num2\n",
        "\n",
        "        # 결과 출력\n",
        "        print(\"나눗셈 결과:\", result)\n",
        "        break\n",
        "\n",
        "    except ValueError:\n",
        "        print(\"잘못된 입력입니다. 숫자를 입력하세요.\")\n",
        "\n",
        "    except ZeroDivisionError:\n",
        "        print(\"0으로 나눌 수 없습니다. 다시 입력하세요.\")\n"
      ],
      "metadata": {
        "colab": {
          "base_uri": "https://localhost:8080/"
        },
        "id": "j2MYtT4FXP_v",
        "outputId": "2f8b603d-0f6b-416a-c99e-fc168a7aa851"
      },
      "execution_count": 1,
      "outputs": [
        {
          "output_type": "stream",
          "name": "stdout",
          "text": [
            "나누는 수를 입력하세요: 12\n",
            "나눌 수를 입력하세요: 2\n",
            "나눗셈 결과: 6.0\n"
          ]
        }
      ]
    }
  ],
  "metadata": {
    "language_info": {
      "name": "python"
    },
    "colab": {
      "provenance": [],
      "include_colab_link": true
    },
    "kernelspec": {
      "name": "python3",
      "display_name": "Python 3"
    }
  },
  "nbformat": 4,
  "nbformat_minor": 0
}