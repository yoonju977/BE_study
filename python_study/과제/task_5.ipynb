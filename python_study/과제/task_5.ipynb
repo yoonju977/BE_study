{
  "cells": [
    {
      "cell_type": "markdown",
      "metadata": {
        "id": "view-in-github",
        "colab_type": "text"
      },
      "source": [
        "<a href=\"https://colab.research.google.com/github/yoonju977/challenge/blob/main/task_5.ipynb\" target=\"_parent\"><img src=\"https://colab.research.google.com/assets/colab-badge.svg\" alt=\"Open In Colab\"/></a>"
      ]
    },
    {
      "cell_type": "markdown",
      "metadata": {
        "id": "vShoWpDZXGl3"
      },
      "source": [
        "datetime 모듈을 사용하여 현재 날짜와 시간을 출력하는 프로그램을 작성하세요.\n",
        "\n",
        "또한, 사용자로부터 태어난 년도를 입력받아 현재 나이를 계산하여 출력하세요."
      ]
    },
    {
      "cell_type": "code",
      "source": [
        "import datetime\n",
        "\n",
        "# 현재 날짜와 시간 출력\n",
        "current_datetime = datetime.datetime.now()\n",
        "print(\"현재 날짜와 시간:\", current_datetime)\n",
        "\n",
        "# 사용자로부터 태어난 년도 입력받기\n",
        "birth_year = int(input(\"태어난 년도를 입력하세요: \"))\n",
        "\n",
        "# 현재 년도 구하기\n",
        "current_year = datetime.datetime.now().year\n",
        "\n",
        "# 나이 계산하여 출력\n",
        "age = current_year - birth_year\n",
        "print(\"당신의 나이는\", age, \"세 입니다.\")\n"
      ],
      "metadata": {
        "colab": {
          "base_uri": "https://localhost:8080/"
        },
        "id": "p4Y-8Bz2YIVx",
        "outputId": "1ea73ec5-724f-4f84-c3bd-ca7d7cbf684b"
      },
      "execution_count": 1,
      "outputs": [
        {
          "output_type": "stream",
          "name": "stdout",
          "text": [
            "현재 날짜와 시간: 2024-04-11 13:37:34.688200\n",
            "태어난 년도를 입력하세요: 1997\n",
            "당신의 나이는 27 세 입니다.\n"
          ]
        }
      ]
    }
  ],
  "metadata": {
    "language_info": {
      "name": "python"
    },
    "colab": {
      "provenance": [],
      "include_colab_link": true
    },
    "kernelspec": {
      "name": "python3",
      "display_name": "Python 3"
    }
  },
  "nbformat": 4,
  "nbformat_minor": 0
}