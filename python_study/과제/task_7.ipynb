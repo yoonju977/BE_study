{
  "cells": [
    {
      "cell_type": "markdown",
      "metadata": {
        "id": "view-in-github",
        "colab_type": "text"
      },
      "source": [
        "<a href=\"https://colab.research.google.com/github/yoonju977/challenge/blob/main/task_7.ipynb\" target=\"_parent\"><img src=\"https://colab.research.google.com/assets/colab-badge.svg\" alt=\"Open In Colab\"/></a>"
      ]
    },
    {
      "cell_type": "markdown",
      "metadata": {
        "id": "qzbLF5yYXHNA"
      },
      "source": [
        "함수 실행 시간을 측정하는 데코레이터 timer_decorator를 작성하세요.\n",
        "\n",
        "임의의 함수가 실행되는 시간을 측정하여 \"함수 실행 시간: x.xx초\" 형태로 출력하세요."
      ]
    },
    {
      "cell_type": "code",
      "source": [
        "import time\n",
        "from functools import wraps\n",
        "\n",
        "def timer_decorator(func):\n",
        "    @wraps(func)\n",
        "    def wrapper(*args, **kwargs):\n",
        "        start_time = time.time()  # 함수 실행 시작 시간 기록\n",
        "        result = func(*args, **kwargs)  # 함수 실행\n",
        "        end_time = time.time()  # 함수 실행 종료 시간 기록\n",
        "        execution_time = end_time - start_time  # 실행 시간 계산\n",
        "        print(f\"함수 실행 시간: {execution_time:.2f}초\")  # 실행 시간 출력\n",
        "        return result\n",
        "    return wrapper\n",
        "\n",
        "# 데코레이터를 적용할 임의의 함수 예시\n",
        "@timer_decorator\n",
        "def example_function():\n",
        "    # 임의의 작업 수행\n",
        "    time.sleep(2)\n",
        "    return \"작업 완료\"\n",
        "\n",
        "# 데코레이터가 적용된 함수 호출\n",
        "result = example_function()\n",
        "print(result)\n"
      ],
      "metadata": {
        "id": "UDzKQgDdYVkX",
        "outputId": "abf8e68c-0ec1-45ff-aa37-f54534b469f2",
        "colab": {
          "base_uri": "https://localhost:8080/"
        }
      },
      "execution_count": 1,
      "outputs": [
        {
          "output_type": "stream",
          "name": "stdout",
          "text": [
            "함수 실행 시간: 2.00초\n",
            "작업 완료\n"
          ]
        }
      ]
    },
    {
      "cell_type": "markdown",
      "metadata": {
        "id": "lOOmGeNVXHNB"
      },
      "source": []
    }
  ],
  "metadata": {
    "language_info": {
      "name": "python"
    },
    "colab": {
      "provenance": [],
      "include_colab_link": true
    },
    "kernelspec": {
      "name": "python3",
      "display_name": "Python 3"
    }
  },
  "nbformat": 4,
  "nbformat_minor": 0
}