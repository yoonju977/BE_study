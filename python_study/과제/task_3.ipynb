{
  "cells": [
    {
      "cell_type": "markdown",
      "metadata": {
        "id": "view-in-github",
        "colab_type": "text"
      },
      "source": [
        "<a href=\"https://colab.research.google.com/github/yoonju977/challenge/blob/main/task_3.ipynb\" target=\"_parent\"><img src=\"https://colab.research.google.com/assets/colab-badge.svg\" alt=\"Open In Colab\"/></a>"
      ]
    },
    {
      "cell_type": "markdown",
      "metadata": {
        "id": "gLwkj02vXFUd"
      },
      "source": [
        "사용자로부터 여러 개의 숫자를 입력받아 리스트에 저장한 후, 사용자가 'done'이라고 입력할 때까지 계속 입력받으세요.\n",
        "\n",
        "- 입력 중 숫자가 아닌 값이 입력되면 ValueError를 처리\n",
        "- 숫자 외 값이 입력된 경우 어떤 값이 잘못 입력되었는지 사용자에게 알려주는 문구 출력<br>\n",
        "  (예: f\"잘못된 값: {변수}. 숫자를 입력해주세요.\")\n",
        "\n"
      ]
    },
    {
      "cell_type": "code",
      "source": [
        "numbers = []\n",
        "\n",
        "while True:\n",
        "    try:\n",
        "        user_input = input(\"숫자를 입력하세요 ('done'으로 종료): \")\n",
        "\n",
        "        # 'done' 입력 시 반복 종료\n",
        "        if user_input == 'done':\n",
        "            break\n",
        "\n",
        "        # 입력값이 숫자인지 확인 후 리스트에 추가\n",
        "        number = float(user_input)\n",
        "        numbers.append(number)\n",
        "\n",
        "    except ValueError:\n",
        "        print(f\"잘못된 값: {user_input}. 숫자를 입력해주세요.\")\n",
        "\n",
        "print(\"입력된 숫자 리스트:\", numbers)\n"
      ],
      "metadata": {
        "colab": {
          "base_uri": "https://localhost:8080/"
        },
        "id": "Y41irqJsZVZp",
        "outputId": "2b725b64-5ecb-48e1-9f32-6551068b395a"
      },
      "execution_count": 2,
      "outputs": [
        {
          "output_type": "stream",
          "name": "stdout",
          "text": [
            "숫자를 입력하세요 ('done'으로 종료): 3\n",
            "숫자를 입력하세요 ('done'으로 종료): w\n",
            "잘못된 값: w. 숫자를 입력해주세요.\n",
            "숫자를 입력하세요 ('done'으로 종료): done\n",
            "입력된 숫자 리스트: [3.0]\n"
          ]
        }
      ]
    },
    {
      "cell_type": "markdown",
      "metadata": {
        "id": "vO-QCeG0XFUe"
      },
      "source": []
    }
  ],
  "metadata": {
    "language_info": {
      "name": "python"
    },
    "colab": {
      "provenance": [],
      "include_colab_link": true
    },
    "kernelspec": {
      "name": "python3",
      "display_name": "Python 3"
    }
  },
  "nbformat": 4,
  "nbformat_minor": 0
}