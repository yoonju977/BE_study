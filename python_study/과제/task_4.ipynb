{
  "cells": [
    {
      "cell_type": "markdown",
      "metadata": {
        "id": "view-in-github",
        "colab_type": "text"
      },
      "source": [
        "<a href=\"https://colab.research.google.com/github/yoonju977/challenge/blob/main/task_4.ipynb\" target=\"_parent\"><img src=\"https://colab.research.google.com/assets/colab-badge.svg\" alt=\"Open In Colab\"/></a>"
      ]
    },
    {
      "cell_type": "markdown",
      "metadata": {
        "id": "VLyUWgwnXF8z"
      },
      "source": [
        "사용자 정의 예외 NegativeNumberError를 생성하고, 사용자로부터 숫자를 입력받아 음수일 경우 NegativeNumberError를 발생시키는 프로그램을 작성하세요.\n",
        "\n",
        "- 예외 처리 구문을 사용하여 음수 입력 시 \"양수를 입력해주세요.\"라는 메시지를 출력"
      ]
    },
    {
      "cell_type": "code",
      "source": [
        "# 사용자 정의 예외 NegativeNumberError 생성\n",
        "class NegativeNumberError(Exception):\n",
        "    pass\n",
        "\n",
        "try:\n",
        "    # 사용자로부터 숫자 입력 받음\n",
        "    num = float(input(\"숫자를 입력하세요: \"))\n",
        "\n",
        "    # 음수일 경우 NegativeNumberError 발생\n",
        "    if num < 0:\n",
        "        raise NegativeNumberError\n",
        "\n",
        "    # 입력된 숫자 출력\n",
        "    print(\"입력된 숫자:\", num)\n",
        "\n",
        "except NegativeNumberError:\n",
        "    print(\"양수를 입력해주세요.\")\n",
        "\n",
        "except ValueError:\n",
        "    print(\"잘못된 입력입니다. 숫자를 입력하세요.\")\n"
      ],
      "metadata": {
        "colab": {
          "base_uri": "https://localhost:8080/"
        },
        "id": "5i3qkIC1X5rf",
        "outputId": "2941f8e7-e030-4a76-869f-8284932173c6"
      },
      "execution_count": 1,
      "outputs": [
        {
          "output_type": "stream",
          "name": "stdout",
          "text": [
            "숫자를 입력하세요: 12\n",
            "입력된 숫자: 12.0\n"
          ]
        }
      ]
    }
  ],
  "metadata": {
    "language_info": {
      "name": "python"
    },
    "colab": {
      "provenance": [],
      "include_colab_link": true
    },
    "kernelspec": {
      "name": "python3",
      "display_name": "Python 3"
    }
  },
  "nbformat": 4,
  "nbformat_minor": 0
}