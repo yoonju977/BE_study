{
  "cells": [
    {
      "cell_type": "markdown",
      "metadata": {
        "id": "view-in-github",
        "colab_type": "text"
      },
      "source": [
        "<a href=\"https://colab.research.google.com/github/yoonju977/challenge/blob/main/Ch22_task.ipynb\" target=\"_parent\"><img src=\"https://colab.research.google.com/assets/colab-badge.svg\" alt=\"Open In Colab\"/></a>"
      ]
    },
    {
      "cell_type": "markdown",
      "metadata": {
        "id": "GKJuz2iSW1uq"
      },
      "source": [
        "여러 숫자를 입력받아 그 합계를 반환하는 함수 sum_numbers를 작성하세요. 이 때, 가변 매개변수를 사용하세요."
      ]
    },
    {
      "cell_type": "markdown",
      "metadata": {
        "id": "f4d3BCKjW1us"
      },
      "source": []
    },
    {
      "cell_type": "code",
      "source": [
        "def sum_numbers(*args):\n",
        "    total = sum(args)\n",
        "    return total\n",
        "\n",
        "result = sum_numbers(1, 2, 3, 4, 5)\n",
        "print(\"합계:\", result)"
      ],
      "metadata": {
        "id": "Q-FJYolkW8Vo",
        "colab": {
          "base_uri": "https://localhost:8080/"
        },
        "outputId": "0e830f1f-26ed-4094-9760-42ba5a742c21"
      },
      "execution_count": 3,
      "outputs": [
        {
          "output_type": "stream",
          "name": "stdout",
          "text": [
            "합계: 15\n"
          ]
        }
      ]
    }
  ],
  "metadata": {
    "language_info": {
      "name": "python"
    },
    "colab": {
      "provenance": [],
      "include_colab_link": true
    },
    "kernelspec": {
      "name": "python3",
      "display_name": "Python 3"
    }
  },
  "nbformat": 4,
  "nbformat_minor": 0
}