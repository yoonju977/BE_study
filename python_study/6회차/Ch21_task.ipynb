{
  "cells": [
    {
      "cell_type": "markdown",
      "metadata": {
        "id": "view-in-github",
        "colab_type": "text"
      },
      "source": [
        "<a href=\"https://colab.research.google.com/github/yoonju977/challenge/blob/main/Ch21_task.ipynb\" target=\"_parent\"><img src=\"https://colab.research.google.com/assets/colab-badge.svg\" alt=\"Open In Colab\"/></a>"
      ]
    },
    {
      "cell_type": "markdown",
      "metadata": {
        "id": "lWNiYVakWWi9"
      },
      "source": [
        "사용자로부터 이름과 나이를 입력 받아, \"안녕하세요, [이름]님! 당신은 [나이]살입니다.\"라고 출력하는 함수 greet_user를 작성하세요."
      ]
    },
    {
      "cell_type": "markdown",
      "metadata": {
        "id": "eGRIQxo8WWjA"
      },
      "source": []
    },
    {
      "cell_type": "code",
      "source": [
        "def greet_user():\n",
        "    name = input(\"이름을 입력하세요: \")\n",
        "    age = input(\"나이를 입력하세요: \")\n",
        "\n",
        "    print(\"안녕하세요, {}님! 당신은 {}살입니다.\".format(name, age))"
      ],
      "metadata": {
        "id": "OWu-uPy_Wlds"
      },
      "execution_count": 2,
      "outputs": []
    }
  ],
  "metadata": {
    "language_info": {
      "name": "python"
    },
    "colab": {
      "provenance": [],
      "include_colab_link": true
    },
    "kernelspec": {
      "name": "python3",
      "display_name": "Python 3"
    }
  },
  "nbformat": 4,
  "nbformat_minor": 0
}