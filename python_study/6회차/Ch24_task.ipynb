{
  "cells": [
    {
      "cell_type": "markdown",
      "metadata": {
        "id": "view-in-github",
        "colab_type": "text"
      },
      "source": [
        "<a href=\"https://colab.research.google.com/github/yoonju977/challenge/blob/main/Ch24_task.ipynb\" target=\"_parent\"><img src=\"https://colab.research.google.com/assets/colab-badge.svg\" alt=\"Open In Colab\"/></a>"
      ]
    },
    {
      "cell_type": "markdown",
      "metadata": {
        "id": "IGdqDtXFXH7I"
      },
      "source": [
        "사용자의 이름, 나이, 성별을 출력하는 함수 print_info를 작성하세요. 이 때, 모든 매개변수는 키워드 매개변수로만 받도록 하세요."
      ]
    },
    {
      "cell_type": "markdown",
      "metadata": {
        "id": "6KFm05nTXH7J"
      },
      "source": []
    },
    {
      "cell_type": "code",
      "source": [
        "def print_info(*, name='익명', age='미상', gender='기타'):\n",
        "    print(\"이름:\", name)\n",
        "    print(\"나이:\", age)\n",
        "    print(\"성별:\", gender)\n",
        "\n",
        "\n",
        "print_info()\n",
        "print_info(name='song', age=28, gender='여성')"
      ],
      "metadata": {
        "id": "G5U7H6G4XYv_",
        "colab": {
          "base_uri": "https://localhost:8080/"
        },
        "outputId": "3e218d5f-b93f-4096-e4ad-c2a502cfd7a2"
      },
      "execution_count": 3,
      "outputs": [
        {
          "output_type": "stream",
          "name": "stdout",
          "text": [
            "이름: 익명\n",
            "나이: 미상\n",
            "성별: 기타\n",
            "이름: song\n",
            "나이: 28\n",
            "성별: 여성\n"
          ]
        }
      ]
    }
  ],
  "metadata": {
    "language_info": {
      "name": "python"
    },
    "colab": {
      "provenance": [],
      "include_colab_link": true
    },
    "kernelspec": {
      "name": "python3",
      "display_name": "Python 3"
    }
  },
  "nbformat": 4,
  "nbformat_minor": 0
}