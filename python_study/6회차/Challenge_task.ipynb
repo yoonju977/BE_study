{
  "cells": [
    {
      "cell_type": "markdown",
      "metadata": {
        "id": "view-in-github",
        "colab_type": "text"
      },
      "source": [
        "<a href=\"https://colab.research.google.com/github/yoonju977/challenge/blob/main/Challenge_task.ipynb\" target=\"_parent\"><img src=\"https://colab.research.google.com/assets/colab-badge.svg\" alt=\"Open In Colab\"/></a>"
      ]
    },
    {
      "cell_type": "markdown",
      "metadata": {
        "id": "KZWUQhbwZVz7"
      },
      "source": [
        "도전 과제입니다!!!\n",
        "\n",
        "난이도가 다소 높은 문제이기 때문에 도전하지 않으셔도 됩니다.\n",
        "\n",
        "실력을 높이시고 싶은 수강생 여러분은 무조건 도전해 주세요!!\n",
        "\n",
        "![image.png](attachment:image.png)"
      ]
    },
    {
      "cell_type": "markdown",
      "metadata": {
        "id": "blKGvngNZVz8"
      },
      "source": [
        "### [프로젝트: 간단한 주소록 관리 시스템]\n",
        "\n",
        "[목표]\n",
        "- 사용자로부터 연락처 정보를 입력받아 관리하고,<br>\n",
        "원하는 조건에 따라 연락처를 검색할 수 있는 간단한 주소록 관리 시스템을 만듭니다.\n",
        "\n",
        "[기능]\n",
        "- 연락처 추가: 사용자의 이름, 전화번호, 이메일 주소를 입력받아 주소록에 추가합니다.\n",
        "- 연락처 목록 보기: 저장된 모든 연락처의 정보를 화면에 출력합니다.\n",
        "- 연락처 검색: 사용자로부터 검색 키워드를 입력받아, 해당 키워드가 이름에 포함된 연락처 정보를 화면에 출력합니다.\n",
        "- 연락처 삭제: 사용자로부터 이름을 입력받아, 해당하는 연락처 정보를 주소록에서 삭제합니다.\n",
        "\n",
        "[구현 상세]\n",
        "- 주소록 데이터는 리스트 내에 딕셔너리 형태로 저장됩니다.\n",
        "- 각 기능은 별도의 함수로 구현합니다.\n",
        "- 함수의 기본 활용, 가변 매개변수, 기본 매개변수, 키워드 매개변수, 타입 어노테이션,<br>\n",
        "  제너레이터, 람다, 튜플, 조기 리턴, 재귀 함수, 함수 리턴 개념을 적절히 활용해야 합니다."
      ]
    },
    {
      "cell_type": "code",
      "execution_count": 1,
      "metadata": {
        "colab": {
          "base_uri": "https://localhost:8080/"
        },
        "id": "0Ma9NuHhZVz9",
        "outputId": "68784b2d-6601-40f9-820a-9704072aa1b2"
      },
      "outputs": [
        {
          "output_type": "stream",
          "name": "stdout",
          "text": [
            "\n",
            "1. 연락처 추가\n",
            "2. 연락처 목록 보기\n",
            "3. 연락처 검색\n",
            "4. 연락처 삭제\n",
            "5. 종료\n",
            "원하는 기능을 선택하세요: 1\n",
            "이름을 입력하세요: 송윤주\n",
            "전화번호를 입력하세요: 01023234545\n",
            "이메일 주소를 입력하세요: ozcoding@naver.com\n",
            "연락처가 추가되었습니다.\n",
            "\n",
            "1. 연락처 추가\n",
            "2. 연락처 목록 보기\n",
            "3. 연락처 검색\n",
            "4. 연락처 삭제\n",
            "5. 종료\n",
            "원하는 기능을 선택하세요: 2\n",
            "주소록 목록:\n",
            "{'name': '송윤주', 'phone': '01023234545', 'email': 'ozcoding@naver.com'}\n",
            "\n",
            "1. 연락처 추가\n",
            "2. 연락처 목록 보기\n",
            "3. 연락처 검색\n",
            "4. 연락처 삭제\n",
            "5. 종료\n",
            "원하는 기능을 선택하세요: 3\n",
            "검색할 키워드를 입력하세요: 송\n",
            "검색 결과:\n",
            "{'name': '송윤주', 'phone': '01023234545', 'email': 'ozcoding@naver.com'}\n",
            "\n",
            "1. 연락처 추가\n",
            "2. 연락처 목록 보기\n",
            "3. 연락처 검색\n",
            "4. 연락처 삭제\n",
            "5. 종료\n",
            "원하는 기능을 선택하세요: 4\n",
            "삭제할 연락처의 이름을 입력하세요: 송윤주\n",
            "송윤주 연락처가 삭제되었습니다.\n",
            "\n",
            "1. 연락처 추가\n",
            "2. 연락처 목록 보기\n",
            "3. 연락처 검색\n",
            "4. 연락처 삭제\n",
            "5. 종료\n",
            "원하는 기능을 선택하세요: 2\n",
            "주소록이 비어있습니다.\n",
            "\n",
            "1. 연락처 추가\n",
            "2. 연락처 목록 보기\n",
            "3. 연락처 검색\n",
            "4. 연락처 삭제\n",
            "5. 종료\n",
            "원하는 기능을 선택하세요: 5\n",
            "프로그램을 종료합니다.\n"
          ]
        }
      ],
      "source": [
        "# 주소록 데이터\n",
        "address_book = []\n",
        "\n",
        "# 연락처 추가 함수\n",
        "def add_contact():\n",
        "    name = input(\"이름을 입력하세요: \")\n",
        "    phone = input(\"전화번호를 입력하세요: \")\n",
        "    email = input(\"이메일 주소를 입력하세요: \")\n",
        "    contact = {'name': name, 'phone': phone, 'email': email}\n",
        "    address_book.append(contact)\n",
        "    print(\"연락처가 추가되었습니다.\")\n",
        "\n",
        "# 연락처 목록 보기 함수\n",
        "def view_contacts():\n",
        "    if not address_book:\n",
        "        print(\"주소록이 비어있습니다.\")\n",
        "    else:\n",
        "        print(\"주소록 목록:\")\n",
        "        for contact in address_book:\n",
        "            print(contact)\n",
        "\n",
        "# 연락처 검색 함수\n",
        "def search_contacts():\n",
        "    keyword = input(\"검색할 키워드를 입력하세요: \")\n",
        "    found = False\n",
        "    print(\"검색 결과:\")\n",
        "    for contact in address_book:\n",
        "        if keyword in contact['name']:\n",
        "            print(contact)\n",
        "            found = True\n",
        "    if not found:\n",
        "        print(\"검색 결과가 없습니다.\")\n",
        "\n",
        "# 연락처 삭제 함수\n",
        "def delete_contact():\n",
        "    name = input(\"삭제할 연락처의 이름을 입력하세요: \")\n",
        "    for contact in address_book:\n",
        "        if contact['name'] == name:\n",
        "            address_book.remove(contact)\n",
        "            print(name, \"연락처가 삭제되었습니다.\")\n",
        "            return\n",
        "    print(\"해당하는 연락처를 찾을 수 없습니다.\")\n",
        "\n",
        "# 메인 프로그램 루프\n",
        "def main():\n",
        "    while True:\n",
        "        print(\"\\n1. 연락처 추가\")\n",
        "        print(\"2. 연락처 목록 보기\")\n",
        "        print(\"3. 연락처 검색\")\n",
        "        print(\"4. 연락처 삭제\")\n",
        "        print(\"5. 종료\")\n",
        "\n",
        "        choice = input(\"원하는 기능을 선택하세요: \")\n",
        "\n",
        "        if choice == '1':\n",
        "            add_contact()\n",
        "        elif choice == '2':\n",
        "            view_contacts()\n",
        "        elif choice == '3':\n",
        "            search_contacts()\n",
        "        elif choice == '4':\n",
        "            delete_contact()\n",
        "        elif choice == '5':\n",
        "            print(\"프로그램을 종료합니다.\")\n",
        "            break\n",
        "        else:\n",
        "            print(\"잘못된 입력입니다. 다시 입력해주세요.\")\n",
        "\n",
        "if __name__ == \"__main__\":\n",
        "    main()\n",
        "\n"
      ]
    }
  ],
  "metadata": {
    "colab": {
      "provenance": [],
      "include_colab_link": true
    },
    "kernelspec": {
      "display_name": "Python 3",
      "name": "python3"
    },
    "language_info": {
      "name": "python"
    }
  },
  "nbformat": 4,
  "nbformat_minor": 0
}