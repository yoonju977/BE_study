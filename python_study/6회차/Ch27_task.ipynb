{
  "cells": [
    {
      "cell_type": "markdown",
      "metadata": {
        "id": "view-in-github",
        "colab_type": "text"
      },
      "source": [
        "<a href=\"https://colab.research.google.com/github/yoonju977/challenge/blob/main/Ch27_task.ipynb\" target=\"_parent\"><img src=\"https://colab.research.google.com/assets/colab-badge.svg\" alt=\"Open In Colab\"/></a>"
      ]
    },
    {
      "cell_type": "markdown",
      "metadata": {
        "id": "yUIt4cgpYEew"
      },
      "source": [
        "두 숫자를 더하는 람다 함수를 작성하고, 이를 변수에 할당한 후 사용하세요."
      ]
    },
    {
      "cell_type": "markdown",
      "metadata": {
        "id": "KlwMQ7AmYEex"
      },
      "source": []
    },
    {
      "cell_type": "code",
      "source": [
        "add_function = lambda x, y: x + y\n",
        "\n",
        "result = add_function(2, 4)\n",
        "print(\"두 숫자의 합:\", result)"
      ],
      "metadata": {
        "id": "szm8baNQYUZ2",
        "outputId": "666c1eae-fdfb-47e8-b50e-e4b56dcbd9bb",
        "colab": {
          "base_uri": "https://localhost:8080/"
        }
      },
      "execution_count": 1,
      "outputs": [
        {
          "output_type": "stream",
          "name": "stdout",
          "text": [
            "두 숫자의 합: 6\n"
          ]
        }
      ]
    }
  ],
  "metadata": {
    "language_info": {
      "name": "python"
    },
    "colab": {
      "provenance": [],
      "include_colab_link": true
    },
    "kernelspec": {
      "name": "python3",
      "display_name": "Python 3"
    }
  },
  "nbformat": 4,
  "nbformat_minor": 0
}