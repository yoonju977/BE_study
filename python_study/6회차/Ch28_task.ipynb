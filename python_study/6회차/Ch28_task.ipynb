{
  "cells": [
    {
      "cell_type": "markdown",
      "metadata": {
        "id": "view-in-github",
        "colab_type": "text"
      },
      "source": [
        "<a href=\"https://colab.research.google.com/github/yoonju977/challenge/blob/main/Ch28_task.ipynb\" target=\"_parent\"><img src=\"https://colab.research.google.com/assets/colab-badge.svg\" alt=\"Open In Colab\"/></a>"
      ]
    },
    {
      "cell_type": "markdown",
      "metadata": {
        "id": "rH_APZ2ZYFw4"
      },
      "source": [
        "사용자로부터 3개의 숫자를 입력받아, 이를 튜플로 만든 후 최소값과 최대값을 출력하는 함수 min_max를 작성하세요."
      ]
    },
    {
      "cell_type": "markdown",
      "metadata": {
        "id": "IZJMaiAsYFw4"
      },
      "source": []
    },
    {
      "cell_type": "code",
      "source": [
        "def min_max():\n",
        "\n",
        "    num1 = float(input(\"첫 번째 숫자를 입력하세요: \"))\n",
        "    num2 = float(input(\"두 번째 숫자를 입력하세요: \"))\n",
        "    num3 = float(input(\"세 번째 숫자를 입력하세요: \"))\n",
        "\n",
        "\n",
        "    numbers = (num1, num2, num3)\n",
        "\n",
        "\n",
        "    print(\"최소값:\", min(numbers))\n",
        "    print(\"최대값:\", max(numbers))"
      ],
      "metadata": {
        "id": "j_4xwsa-YmY5"
      },
      "execution_count": null,
      "outputs": []
    }
  ],
  "metadata": {
    "language_info": {
      "name": "python"
    },
    "colab": {
      "provenance": [],
      "include_colab_link": true
    }
  },
  "nbformat": 4,
  "nbformat_minor": 0
}