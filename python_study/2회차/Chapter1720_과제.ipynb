{
  "cells": [
    {
      "cell_type": "markdown",
      "metadata": {
        "id": "view-in-github",
        "colab_type": "text"
      },
      "source": [
        "<a href=\"https://colab.research.google.com/github/yoonju977/challenge/blob/main/Chapter1720_%E1%84%80%E1%85%AA%E1%84%8C%E1%85%A6.ipynb\" target=\"_parent\"><img src=\"https://colab.research.google.com/assets/colab-badge.svg\" alt=\"Open In Colab\"/></a>"
      ]
    },
    {
      "cell_type": "markdown",
      "metadata": {
        "id": "aLkxKxnFLowa"
      },
      "source": [
        "안녕하세요. 수강생 여러분~! Chapter17 ~ 20 수업은 잘 들으셨나요?\n",
        "\n",
        "Chapter17 ~ 20의 수업 내용을 바탕으로 아래 문제를 풀어주시면 됩니다.\n",
        "\n",
        "[**답변 입력 방법**]\n",
        "\n",
        "문제 아래에 있는 코드 입력창에 정답코드를 작성하신 후 ▷ 버튼을 클릭해 코드를 실행해보세요<br>"
      ]
    },
    {
      "cell_type": "markdown",
      "metadata": {
        "id": "pYJ1dSggLwcG"
      },
      "source": [
        "[문제1]\n",
        "\n",
        "print_even 리스트 내에 있는 값 중 짝수만 화면에 출력되도록 print_score 함수를 생성 후 결과값을 출력해주세요\n",
        "\n",
        "print_even ([1, 3, 2, 10, 12, 11, 15])"
      ]
    },
    {
      "cell_type": "code",
      "execution_count": 1,
      "metadata": {
        "id": "PTqEeebbLmCA",
        "colab": {
          "base_uri": "https://localhost:8080/"
        },
        "outputId": "0aef2529-e584-41cb-f616-3af21cee1107"
      },
      "outputs": [
        {
          "output_type": "stream",
          "name": "stdout",
          "text": [
            "[2, 10, 12]\n"
          ]
        }
      ],
      "source": [
        "print_even = [1,3,2,10,12,11,15]\n",
        "\n",
        "def print_score():\n",
        "    final = []\n",
        "    for i in print_even:\n",
        "        if i%2 == 0:\n",
        "            final.append(i)\n",
        "\n",
        "    print(final)\n",
        "\n",
        "print_score()"
      ]
    },
    {
      "cell_type": "markdown",
      "metadata": {
        "id": "--ImjZrhrC0R"
      },
      "source": [
        "---"
      ]
    },
    {
      "cell_type": "markdown",
      "metadata": {
        "id": "ZkGserEsQS0L"
      },
      "source": [
        "[문제2]\n",
        "\n",
        "비어있는 오즈 (oz) 클래스를 \"정의\" 해보세요."
      ]
    },
    {
      "cell_type": "code",
      "execution_count": 2,
      "metadata": {
        "id": "dJbcWWlwL0iK"
      },
      "outputs": [],
      "source": [
        "class oz:\n",
        "    pass"
      ]
    },
    {
      "cell_type": "markdown",
      "metadata": {
        "id": "8tOF9dnWrC0S"
      },
      "source": [
        "---"
      ]
    },
    {
      "cell_type": "markdown",
      "metadata": {
        "id": "Ofy86rZfL1Mg"
      },
      "source": [
        "[문제3]\n",
        "\n",
        "오즈(oz) 클래스의 인스턴스를 \"생성\" 하고 이를 coding 변수로 할당해보세요."
      ]
    },
    {
      "cell_type": "code",
      "execution_count": 3,
      "metadata": {
        "id": "5NhWiuULL2Xa"
      },
      "outputs": [],
      "source": [
        "class oz:\n",
        "    pass\n",
        "\n",
        "coding = oz()"
      ]
    },
    {
      "cell_type": "markdown",
      "metadata": {
        "id": "n4klssvorC0T"
      },
      "source": [
        "---"
      ]
    },
    {
      "cell_type": "markdown",
      "metadata": {
        "id": "5T6EMx8EL26b"
      },
      "source": [
        "[문제4]\n",
        "\n",
        "오즈(oz) 클래스에 \"클래스 정복\"을 출력하는 기본 생성자를 추가해주세요"
      ]
    },
    {
      "cell_type": "code",
      "execution_count": 4,
      "metadata": {
        "id": "Zq35PXA0L3-m",
        "colab": {
          "base_uri": "https://localhost:8080/"
        },
        "outputId": "5363fb91-2e0a-4bc9-ddaa-bf043a4edb10"
      },
      "outputs": [
        {
          "output_type": "stream",
          "name": "stdout",
          "text": [
            "클래스 정복\n"
          ]
        }
      ],
      "source": [
        "class oz:\n",
        "    def __init__(self):\n",
        "        print(\"클래스 정복\")\n",
        "\n",
        "coding = oz()"
      ]
    },
    {
      "cell_type": "markdown",
      "metadata": {
        "id": "I05xgNp6rC0T"
      },
      "source": [
        "---"
      ]
    },
    {
      "cell_type": "markdown",
      "metadata": {
        "id": "htuycQWSL4l-"
      },
      "source": [
        "[문제5]\n",
        "\n",
        "오즈 (oz) 클래스에 (이름, 나이, 코딩레벨)을 받는 생성자를 추가해주세요\n",
        "\n",
        "coding = oz(\"김코\", 30, \"A\")\n"
      ]
    },
    {
      "cell_type": "code",
      "execution_count": 5,
      "metadata": {
        "id": "A7h3I8CWL5ox"
      },
      "outputs": [],
      "source": [
        "class oz:\n",
        "    def __init__(self,name,age,level):\n",
        "        self.name = name\n",
        "        self.age = age\n",
        "        self.level = level\n",
        "\n",
        "coding= oz(\"김코\",30,\"A\")"
      ]
    },
    {
      "cell_type": "markdown",
      "metadata": {
        "id": "rU96psxyrC0U"
      },
      "source": [
        "---"
      ]
    },
    {
      "cell_type": "markdown",
      "metadata": {
        "id": "ZGDLHI5xL6Bd"
      },
      "source": [
        "[문제6]\n",
        "\n",
        "5번 문제에서 생성한 인스턴스의 이름, 나이, 성별을 출력해주세요.\n",
        "인스턴스 변수에 접근하여 값을 출력하면 됩니다  : )\n",
        "\n",
        "출력 결과  \n",
        "이름 : 김코  \n",
        "나이 : 30  \n",
        "코딩레벨 : A  "
      ]
    },
    {
      "cell_type": "code",
      "execution_count": 6,
      "metadata": {
        "id": "qCrPejI_L8Wr",
        "colab": {
          "base_uri": "https://localhost:8080/"
        },
        "outputId": "99f79c9e-e8c1-4ee8-96af-bd67f143ac22"
      },
      "outputs": [
        {
          "output_type": "stream",
          "name": "stdout",
          "text": [
            "이름 :  김코\n",
            "나이 :  30\n",
            "코딩레벨 :  A\n"
          ]
        }
      ],
      "source": [
        "class oz:\n",
        "    def __init__(self,name,age,level):\n",
        "        self.name = name\n",
        "        self.age = age\n",
        "        self.level = level\n",
        "\n",
        "coding= oz(\"김코\",30,\"A\")\n",
        "\n",
        "print(\"이름 : \",coding.name)\n",
        "print(\"나이 : \", coding.age)\n",
        "print(\"코딩레벨 : \",coding.level)"
      ]
    },
    {
      "cell_type": "markdown",
      "metadata": {
        "id": "BAeqaBkjrC0U"
      },
      "source": [
        "---"
      ]
    },
    {
      "cell_type": "markdown",
      "metadata": {
        "id": "RmtPk-A1L8z4"
      },
      "source": [
        "[뮨제7]\n",
        "\n",
        "오즈 (oz) 클래스에서 이름, 나이, 성별을 출력하는 who() 메소드를 추가하고 who()메소드를 이용해 아래 출력 결과를 만들어주세요\n",
        "\n",
        "\n",
        "출력 결과 : 이름: 김코, 나이: 30, 코딩레벨: A"
      ]
    },
    {
      "cell_type": "code",
      "execution_count": 7,
      "metadata": {
        "id": "fvrvm87vL_HZ",
        "colab": {
          "base_uri": "https://localhost:8080/"
        },
        "outputId": "609e1be5-f23a-4dff-ea06-b9f2b645d3ef"
      },
      "outputs": [
        {
          "output_type": "stream",
          "name": "stdout",
          "text": [
            "이름:김코,나이:30,코딩레벨:A\n"
          ]
        }
      ],
      "source": [
        "class oz:\n",
        "    def __init__(self,name,age,level):\n",
        "        self.name = name\n",
        "        self.age = age\n",
        "        self.level = level\n",
        "\n",
        "    def who(self):\n",
        "        print(\"이름:{0},나이:{1},코딩레벨:{2}\".format(self.name,self.age,self.level))\n",
        "\n",
        "coding= oz(\"김코\",30,\"A\")\n",
        "coding.who()"
      ]
    }
  ],
  "metadata": {
    "colab": {
      "provenance": [],
      "include_colab_link": true
    },
    "kernelspec": {
      "display_name": "Python 3",
      "name": "python3"
    },
    "language_info": {
      "name": "python"
    }
  },
  "nbformat": 4,
  "nbformat_minor": 0
}